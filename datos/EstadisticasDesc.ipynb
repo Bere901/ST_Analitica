{
 "cells": [
  {
   "cell_type": "code",
   "execution_count": 9,
   "metadata": {},
   "outputs": [
    {
     "name": "stdout",
     "output_type": "stream",
     "text": [
      "       customer  order  total_items  discount%  weekday  hour  Food%  Fresh%  \\\n",
      "0             0      0           45      23.03        4    13   9.46   87.06   \n",
      "1             0      1           38       1.22        5    13  15.87   75.80   \n",
      "2             0      2           51      18.08        4    13  16.88   56.75   \n",
      "3             1      3           57      16.51        1    12  28.81   35.99   \n",
      "4             1      4           53      18.31        2    11  24.13   60.38   \n",
      "...         ...    ...          ...        ...      ...   ...    ...     ...   \n",
      "29995     10235  29995            4       0.00        5    10   5.80    0.00   \n",
      "29996     10236  29996            1       0.00        7    21   0.00    0.00   \n",
      "29997     10237  29997           54       0.00        4    17   9.25    0.00   \n",
      "29998     10237  29998           10       0.00        5    10   0.00    0.00   \n",
      "29999     10238  29999            2       0.00        4    17   0.00    0.00   \n",
      "\n",
      "       Drinks%  Home%  Beauty%  Health%  Baby%  Pets%  \n",
      "0         3.48   0.00     0.00     0.00    0.0    0.0  \n",
      "1         6.22   2.12     0.00     0.00    0.0    0.0  \n",
      "2         3.37  16.48     6.53     0.00    0.0    0.0  \n",
      "3        11.78   4.62     2.87    15.92    0.0    0.0  \n",
      "4         7.78   7.72     0.00     0.00    0.0    0.0  \n",
      "...        ...    ...      ...      ...    ...    ...  \n",
      "29995    51.30   0.00     0.00     0.00    0.0   42.9  \n",
      "29996     0.00   0.00   100.00     0.00    0.0    0.0  \n",
      "29997    77.48  13.27     0.00     0.00    0.0    0.0  \n",
      "29998   100.00   0.00     0.00     0.00    0.0    0.0  \n",
      "29999     0.00   0.00     0.00     0.00  100.0    0.0  \n",
      "\n",
      "[30000 rows x 14 columns]\n"
     ]
    }
   ],
   "source": [
    "import numpy as np \n",
    "import pandas as pd \n",
    "\n",
    "df = pd.read_csv('ulabox_orders_with_categories_partials_2017.csv')\n",
    "print(df)"
   ]
  },
  {
   "cell_type": "code",
   "execution_count": 10,
   "metadata": {},
   "outputs": [
    {
     "name": "stdout",
     "output_type": "stream",
     "text": [
      "Filas:  30000 Columnas:  14\n",
      "\n",
      "Tipos de datos: \n",
      "customer         int64\n",
      "order            int64\n",
      "total_items      int64\n",
      "discount%      float64\n",
      "weekday          int64\n",
      "hour             int64\n",
      "Food%          float64\n",
      "Fresh%         float64\n",
      "Drinks%        float64\n",
      "Home%          float64\n",
      "Beauty%        float64\n",
      "Health%        float64\n",
      "Baby%          float64\n",
      "Pets%          float64\n",
      "dtype: object\n"
     ]
    }
   ],
   "source": [
    "shape = df.shape\n",
    "print('Filas: ', shape[0], 'Columnas: ', shape[1])\n",
    "print()\n",
    "\n",
    "#Tipos de datos \n",
    "print('Tipos de datos: ')\n",
    "print(df.dtypes)"
   ]
  },
  {
   "cell_type": "code",
   "execution_count": 1,
   "metadata": {},
   "outputs": [
    {
     "name": "stdout",
     "output_type": "stream",
     "text": [
      " Analisis de variables:\n",
      "customer -> clientes\n",
      "order -> numero de orden\n",
      "total_item -> total de productos comprados \n",
      "discount -> porcentaje de descuento recibido\n",
      "weekday -> dia de la semana en la que se pago la orden\n",
      "hour -> la hora en que se hizo el pago de la orden\n",
      "Food  -> porcentaje de dinero gastado en comida\n",
      "Fresh -> porcentaje de dinero gastado en comida fresca\n",
      "Drinks -> porcentaje de dinero gastado en bebidas \n",
      "Beauty -> porcentaje de dinero gastado en productos de belleza\n",
      "Health -> porcentaje de dinero gastado en productos para la salud\n",
      "Baby -> porcentaje de dinero gastado en productos para bebes\n",
      "Pets -> porcentaje de dinero gastado en productos para mascotas\n",
      " \n",
      "Maximos y Minimos\n"
     ]
    },
    {
     "ename": "NameError",
     "evalue": "name 'df' is not defined",
     "output_type": "error",
     "traceback": [
      "\u001b[0;31m---------------------------------------------------------------------------\u001b[0m",
      "\u001b[0;31mNameError\u001b[0m                                 Traceback (most recent call last)",
      "Cell \u001b[0;32mIn [1], line 19\u001b[0m\n\u001b[1;32m     17\u001b[0m \u001b[39m#Valores maximos y minimos\u001b[39;00m\n\u001b[1;32m     18\u001b[0m \u001b[39mprint\u001b[39m(\u001b[39m'\u001b[39m\u001b[39mMaximos y Minimos\u001b[39m\u001b[39m'\u001b[39m)\n\u001b[0;32m---> 19\u001b[0m df\u001b[39m.\u001b[39mdescribe()\u001b[39m.\u001b[39mround(\u001b[39m2\u001b[39m)\n",
      "\u001b[0;31mNameError\u001b[0m: name 'df' is not defined"
     ]
    }
   ],
   "source": [
    "#Analisis de variables y rangos\n",
    "print(''' Analisis de variables:\n",
    "customer -> clientes\n",
    "order -> numero de orden\n",
    "total_item -> total de productos comprados \n",
    "discount -> porcentaje de descuento recibido\n",
    "weekday -> dia de la semana en la que se pago la orden\n",
    "hour -> la hora en que se hizo el pago de la orden\n",
    "Food  -> porcentaje de dinero gastado en comida\n",
    "Fresh -> porcentaje de dinero gastado en comida fresca\n",
    "Drinks -> porcentaje de dinero gastado en bebidas \n",
    "Beauty -> porcentaje de dinero gastado en productos de belleza\n",
    "Health -> porcentaje de dinero gastado en productos para la salud\n",
    "Baby -> porcentaje de dinero gastado en productos para bebes\n",
    "Pets -> porcentaje de dinero gastado en productos para mascotas\\n ''')\n",
    "\n",
    "#Valores maximos y minimos\n",
    "print('Maximos y Minimos')\n",
    "df.describe().round(2)"
   ]
  },
  {
   "cell_type": "code",
   "execution_count": 17,
   "metadata": {},
   "outputs": [
    {
     "name": "stdout",
     "output_type": "stream",
     "text": [
      "---Media---\n",
      "customer        5012.483367\n",
      "order          14999.500000\n",
      "total_items       31.739933\n",
      "discount%          8.455495\n",
      "weekday            3.642367\n",
      "hour              15.034667\n",
      "Food%             23.560406\n",
      "Fresh%            20.227279\n",
      "Drinks%           23.349235\n",
      "Home%             13.539575\n",
      "Beauty%            5.892949\n",
      "Health%            1.132959\n",
      "Baby%             11.096145\n",
      "Pets%              1.043087\n",
      "dtype: float64\n",
      "---Mediana---\n",
      "customer        5043.00\n",
      "order          14999.50\n",
      "total_items       29.00\n",
      "discount%          4.16\n",
      "weekday            3.00\n",
      "hour              15.00\n",
      "Food%             19.65\n",
      "Fresh%            10.93\n",
      "Drinks%           17.89\n",
      "Home%              7.21\n",
      "Beauty%            0.00\n",
      "Health%            0.00\n",
      "Baby%              0.00\n",
      "Pets%              0.00\n",
      "dtype: float64\n",
      "---Moda---\n",
      "       customer  order  total_items  discount%  weekday  hour  Food%  Fresh%  \\\n",
      "0        6560.0      0         25.0        0.0      1.0  22.0    0.0     0.0   \n",
      "1           NaN      1          NaN        NaN      NaN   NaN    NaN     NaN   \n",
      "2           NaN      2          NaN        NaN      NaN   NaN    NaN     NaN   \n",
      "3           NaN      3          NaN        NaN      NaN   NaN    NaN     NaN   \n",
      "4           NaN      4          NaN        NaN      NaN   NaN    NaN     NaN   \n",
      "...         ...    ...          ...        ...      ...   ...    ...     ...   \n",
      "29995       NaN  29995          NaN        NaN      NaN   NaN    NaN     NaN   \n",
      "29996       NaN  29996          NaN        NaN      NaN   NaN    NaN     NaN   \n",
      "29997       NaN  29997          NaN        NaN      NaN   NaN    NaN     NaN   \n",
      "29998       NaN  29998          NaN        NaN      NaN   NaN    NaN     NaN   \n",
      "29999       NaN  29999          NaN        NaN      NaN   NaN    NaN     NaN   \n",
      "\n",
      "       Drinks%  Home%  Beauty%  Health%  Baby%  Pets%  \n",
      "0          0.0    0.0      0.0      0.0    0.0    0.0  \n",
      "1          NaN    NaN      NaN      NaN    NaN    NaN  \n",
      "2          NaN    NaN      NaN      NaN    NaN    NaN  \n",
      "3          NaN    NaN      NaN      NaN    NaN    NaN  \n",
      "4          NaN    NaN      NaN      NaN    NaN    NaN  \n",
      "...        ...    ...      ...      ...    ...    ...  \n",
      "29995      NaN    NaN      NaN      NaN    NaN    NaN  \n",
      "29996      NaN    NaN      NaN      NaN    NaN    NaN  \n",
      "29997      NaN    NaN      NaN      NaN    NaN    NaN  \n",
      "29998      NaN    NaN      NaN      NaN    NaN    NaN  \n",
      "29999      NaN    NaN      NaN      NaN    NaN    NaN  \n",
      "\n",
      "[30000 rows x 14 columns]\n"
     ]
    }
   ],
   "source": [
    "print('---Media---')\n",
    "print(df.mean())\n",
    "print('---Mediana---')\n",
    "print(df.median())\n",
    "print('---Moda---')\n",
    "print(df.mode())"
   ]
  }
 ],
 "metadata": {
  "kernelspec": {
   "display_name": "Python 3",
   "language": "python",
   "name": "python3"
  },
  "language_info": {
   "codemirror_mode": {
    "name": "ipython",
    "version": 3
   },
   "file_extension": ".py",
   "mimetype": "text/x-python",
   "name": "python",
   "nbconvert_exporter": "python",
   "pygments_lexer": "ipython3",
   "version": "3.8.13"
  },
  "orig_nbformat": 4,
  "vscode": {
   "interpreter": {
    "hash": "9ac03a0a6051494cc606d484d27d20fce22fb7b4d169f583271e11d5ba46a56e"
   }
  }
 },
 "nbformat": 4,
 "nbformat_minor": 2
}
