{
 "cells": [
  {
   "cell_type": "code",
   "execution_count": 3,
   "metadata": {},
   "outputs": [
    {
     "name": "stdout",
     "output_type": "stream",
     "text": [
      "       customer  order  total_items  discount%  weekday  hour  Food%  Fresh%  \\\n",
      "0             0      0           45      23.03        4    13   9.46   87.06   \n",
      "1             0      1           38       1.22        5    13  15.87   75.80   \n",
      "2             0      2           51      18.08        4    13  16.88   56.75   \n",
      "3             1      3           57      16.51        1    12  28.81   35.99   \n",
      "4             1      4           53      18.31        2    11  24.13   60.38   \n",
      "...         ...    ...          ...        ...      ...   ...    ...     ...   \n",
      "29995     10235  29995            4       0.00        5    10   5.80    0.00   \n",
      "29996     10236  29996            1       0.00        7    21   0.00    0.00   \n",
      "29997     10237  29997           54       0.00        4    17   9.25    0.00   \n",
      "29998     10237  29998           10       0.00        5    10   0.00    0.00   \n",
      "29999     10238  29999            2       0.00        4    17   0.00    0.00   \n",
      "\n",
      "       Drinks%  Home%  Beauty%  Health%  Baby%  Pets%  \n",
      "0         3.48   0.00     0.00     0.00    0.0    0.0  \n",
      "1         6.22   2.12     0.00     0.00    0.0    0.0  \n",
      "2         3.37  16.48     6.53     0.00    0.0    0.0  \n",
      "3        11.78   4.62     2.87    15.92    0.0    0.0  \n",
      "4         7.78   7.72     0.00     0.00    0.0    0.0  \n",
      "...        ...    ...      ...      ...    ...    ...  \n",
      "29995    51.30   0.00     0.00     0.00    0.0   42.9  \n",
      "29996     0.00   0.00   100.00     0.00    0.0    0.0  \n",
      "29997    77.48  13.27     0.00     0.00    0.0    0.0  \n",
      "29998   100.00   0.00     0.00     0.00    0.0    0.0  \n",
      "29999     0.00   0.00     0.00     0.00  100.0    0.0  \n",
      "\n",
      "[30000 rows x 14 columns]\n"
     ]
    }
   ],
   "source": [
    "import pandas as pd \n",
    "import numpy as np \n",
    "import matplotlib.pyplot as plt \n",
    "\n",
    "df = pd.read_csv(\"ulabox_orders_with_categories_partials_2017.csv\")\n",
    "print(df)"
   ]
  }
 ],
 "metadata": {
  "kernelspec": {
   "display_name": "Python 3",
   "language": "python",
   "name": "python3"
  },
  "language_info": {
   "codemirror_mode": {
    "name": "ipython",
    "version": 3
   },
   "file_extension": ".py",
   "mimetype": "text/x-python",
   "name": "python",
   "nbconvert_exporter": "python",
   "pygments_lexer": "ipython3",
   "version": "3.8.13"
  },
  "orig_nbformat": 4,
  "vscode": {
   "interpreter": {
    "hash": "9ac03a0a6051494cc606d484d27d20fce22fb7b4d169f583271e11d5ba46a56e"
   }
  }
 },
 "nbformat": 4,
 "nbformat_minor": 2
}
